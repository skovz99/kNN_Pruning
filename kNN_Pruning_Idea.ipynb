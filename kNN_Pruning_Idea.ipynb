{
  "nbformat": 4,
  "nbformat_minor": 0,
  "metadata": {
    "colab": {
      "provenance": [],
      "authorship_tag": "ABX9TyNO2PqwmjMlQNG4z0jjBbzw",
      "include_colab_link": true
    },
    "kernelspec": {
      "name": "python3",
      "display_name": "Python 3"
    },
    "language_info": {
      "name": "python"
    }
  },
  "cells": [
    {
      "cell_type": "markdown",
      "metadata": {
        "id": "view-in-github",
        "colab_type": "text"
      },
      "source": [
        "<a href=\"https://colab.research.google.com/github/skovz99/kNN_Pruning/blob/main/kNN_Pruning_Idea.ipynb\" target=\"_parent\"><img src=\"https://colab.research.google.com/assets/colab-badge.svg\" alt=\"Open In Colab\"/></a>"
      ]
    },
    {
      "cell_type": "code",
      "execution_count": 3,
      "metadata": {
        "id": "gpYvMJ3PTweX"
      },
      "outputs": [],
      "source": [
        "from sqlalchemy.sql.functions import count\n",
        "import numpy as np\n",
        "import pandas as pd\n",
        "import math\n",
        "from sklearn.neighbors import NearestNeighbors\n",
        "import warnings\n",
        "warnings.filterwarnings(\"ignore\")\n",
        "\n",
        "def neighbors(training_X, nbrs):\n",
        "  x = NearestNeighbors(n_neighbors=nbrs, algorithm='ball_tree').fit(training_X)\n",
        "  distances, indices = x.kneighbors(training_X)\n",
        "  first_df = pd.DataFrame(indices[:, 1:])\n",
        "  new_columns = [f'Neighbor {x + 1}' for x in range(nbrs-1)]\n",
        "  first_df.columns = new_columns\n",
        "  return first_df\n",
        "\n",
        "def create_list(resulting_indices):\n",
        "  combined_series = pd.Series()\n",
        "  for column_name in resulting_indices.columns:\n",
        "    combined_series = combined_series.append(resulting_indices[column_name])\n",
        "  combined_list = combined_series.tolist()\n",
        "  return combined_list\n",
        "\n",
        "def unique_values(listing, number_guide):\n",
        "  number = np.array(number_guide)\n",
        "  counts = []\n",
        "  for num in number:\n",
        "    save = listing.count(num)\n",
        "    counts.append(save)\n",
        "  return counts\n",
        "\n",
        "def percentile(counting, k):\n",
        "  array = np.array(counting)\n",
        "  percentile = np.percentile(array, k)\n",
        "  return percentile\n",
        "\n",
        "def prune(percentage, counting):\n",
        "  count_df = pd.DataFrame()\n",
        "  count_df['Counting'] = counting\n",
        "  count_df['Counting'] = np.where(count_df['Counting'] <= percentage, np.nan, count_df['Counting'])\n",
        "  return count_df\n",
        "\n",
        "def retain_classes(count_df_targets, targets):\n",
        "    targets_numpy = targets.to_numpy()\n",
        "    target_class = set(np.array(targets))\n",
        "    percentages_before = {}\n",
        "    for member in target_class:\n",
        "        count = np.count_nonzero(targets_numpy == member)\n",
        "        percentage = (count / len(targets_numpy)) * 100\n",
        "        percentages_before[member] = percentage\n",
        "    after_targets = count_df_targets.to_numpy()\n",
        "    set_after_targets_class = set(np.array(after_targets))\n",
        "    percentages_after = {}\n",
        "    for new_member in set_after_targets_class:\n",
        "        count = np.count_nonzero(after_targets == new_member)\n",
        "        percentage = (count / len(after_targets)) * 100\n",
        "        percentages_after[new_member] = percentage\n",
        "    return percentages_before, percentages_after"
      ]
    },
    {
      "cell_type": "code",
      "source": [
        "X = np.array([[-1, -1], [-2, -1], [-3, -2], [1, 1], [2, 1], [3, 2]])\n",
        "\n",
        "first = neighbors(X, nbrs = 4)\n",
        "second = create_list(first)\n",
        "third = unique_values(second, range(len(X)))\n",
        "fourth = percentile(third, k = 10) # k value represents a percentile between 0 and 100 that you choose, recommended between 0 and 15\n",
        "fifth = prune(fourth, third)\n",
        "\n",
        "# what to do after running the five functions\n",
        "sixth = pd.DataFrame(X)\n",
        "sixth = sixth.rename(columns={0: \"X\", 1: \"Y\"}) # if you already have varaible names you can skip this step and just concat sixth and seventh\n",
        "seventh = pd.DataFrame(pd.concat([sixth, fifth], axis = 1))\n",
        "\n",
        "# drop the NaN rows from the dataframe and all rows left will have the variables that are most frequently used\n",
        "seventh['Target'] = [1,0,0,1,0,1]\n",
        "\n",
        "# create synthetic target variables\n",
        "targets = seventh['Target']\n",
        "seventh = seventh.dropna()\n",
        "after_targets = seventh['Target']\n",
        "\n",
        "# determine representation\n",
        "percentages_before, percentages_after = retain_classes(after_targets, targets)\n",
        "print(percentages_before)\n",
        "print(percentages_after)"
      ],
      "metadata": {
        "id": "9mPqyhzSBmHE",
        "colab": {
          "base_uri": "https://localhost:8080/"
        },
        "outputId": "aa8eaab3-527f-4d76-96b1-79cfbd9704b2"
      },
      "execution_count": 6,
      "outputs": [
        {
          "output_type": "stream",
          "name": "stdout",
          "text": [
            "{0: 50.0, 1: 50.0}\n",
            "{1: 100.0}\n"
          ]
        }
      ]
    },
    {
